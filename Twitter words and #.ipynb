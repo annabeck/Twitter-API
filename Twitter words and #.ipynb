{
 "cells": [
  {
   "cell_type": "code",
   "execution_count": 1,
   "metadata": {},
   "outputs": [],
   "source": [
    "from searchtweets import load_credentials, ResultStream, gen_rule_payload, collect_results\n",
    "import pandas as pd\n",
    "import time\n",
    "from datetime import datetime\n",
    "import regex as re"
   ]
  },
  {
   "cell_type": "code",
   "execution_count": 2,
   "metadata": {},
   "outputs": [
    {
     "name": "stderr",
     "output_type": "stream",
     "text": [
      "Grabbing bearer token from OAUTH\n"
     ]
    }
   ],
   "source": [
    "premium_search_args  = load_credentials(filename=\"twitter_keys_fullarchive.yaml\",\n",
    "                 yaml_key=\"search_tweets_api\",\n",
    "                 env_overwrite=False)"
   ]
  },
  {
   "cell_type": "markdown",
   "metadata": {},
   "source": [
    "# 1) Define search parameters"
   ]
  },
  {
   "cell_type": "code",
   "execution_count": 1,
   "metadata": {},
   "outputs": [],
   "source": [
    "# \"OR\": \"ligeløn OR løn\"\n",
    "# \"AND\": \"Mette AND Mink\"\n",
    "search_word = '#kv21'"
   ]
  },
  {
   "cell_type": "markdown",
   "metadata": {},
   "source": [
    "# 2) I HVILKEN PERIODE"
   ]
  },
  {
   "cell_type": "code",
   "execution_count": 4,
   "metadata": {},
   "outputs": [
    {
     "name": "stdout",
     "output_type": "stream",
     "text": [
      "{\"query\":\"#kv21\",\"maxResults\":500,\"toDate\":\"202111170000\",\"fromDate\":\"202111160000\"}\n"
     ]
    }
   ],
   "source": [
    "rule = gen_rule_payload(search_word,\n",
    "                        results_per_call=500,\n",
    "                       from_date = '2021-11-16', #date from\n",
    "                       to_date = '2021-11-17') #date to\n",
    "print(rule)"
   ]
  },
  {
   "cell_type": "code",
   "execution_count": 5,
   "metadata": {},
   "outputs": [
    {
     "name": "stdout",
     "output_type": "stream",
     "text": [
      "ResultStream: \n",
      "\t{\n",
      "    \"username\": null,\n",
      "    \"endpoint\": \"https:\\/\\/api.twitter.com\\/1.1\\/tweets\\/search\\/fullarchive\\/OperateTwitter.json\",\n",
      "    \"rule_payload\": {\n",
      "        \"query\": \"#kv21\",\n",
      "        \"maxResults\": 500,\n",
      "        \"toDate\": \"202111170000\",\n",
      "        \"fromDate\": \"202111160000\"\n",
      "    },\n",
      "    \"tweetify\": true,\n",
      "    \"max_results\": 10000\n",
      "}\n"
     ]
    }
   ],
   "source": [
    "rs = ResultStream(rule_payload=rule,\n",
    "                  max_results=10000,\n",
    "                  **premium_search_args)\n",
    "\n",
    "print(rs)"
   ]
  },
  {
   "cell_type": "code",
   "execution_count": 6,
   "metadata": {},
   "outputs": [],
   "source": [
    "tweets = list(rs.stream())"
   ]
  },
  {
   "cell_type": "code",
   "execution_count": 7,
   "metadata": {},
   "outputs": [
    {
     "data": {
      "text/plain": [
       "Index(['created_at', 'id', 'id_str', 'text', 'source', 'truncated',\n",
       "       'in_reply_to_status_id', 'in_reply_to_status_id_str',\n",
       "       'in_reply_to_user_id', 'in_reply_to_user_id_str',\n",
       "       'in_reply_to_screen_name', 'user', 'geo', 'coordinates', 'place',\n",
       "       'contributors', 'is_quote_status', 'quote_count', 'reply_count',\n",
       "       'retweet_count', 'favorite_count', 'entities', 'favorited', 'retweeted',\n",
       "       'filter_level', 'lang', 'matching_rules', 'extended_tweet',\n",
       "       'possibly_sensitive', 'display_text_range', 'retweeted_status',\n",
       "       'extended_entities', 'quoted_status_id', 'quoted_status_id_str',\n",
       "       'quoted_status', 'quoted_status_permalink'],\n",
       "      dtype='object')"
      ]
     },
     "execution_count": 7,
     "metadata": {},
     "output_type": "execute_result"
    }
   ],
   "source": [
    "df = pd.DataFrame(tweets)\n",
    "df.columns"
   ]
  },
  {
   "cell_type": "code",
   "execution_count": 8,
   "metadata": {},
   "outputs": [],
   "source": [
    "df['retweet'] = df['retweeted_status'].apply(lambda x: pd.isnull(x) == False)\n",
    "df['dato'] = df['created_at'].apply(lambda x: time.strftime('%Y-%m-%d', time.strptime(x,'%a %b %d %H:%M:%S +0000 %Y')))\n",
    "df['bruger'] = df['user'].apply(lambda x: x['name'])\n",
    "df['bruger_beskrivelse'] = df['user'].apply(lambda x: x['description'])\n",
    "df['twitter_handle'] = df['user'].apply(lambda x: x['screen_name'])"
   ]
  },
  {
   "cell_type": "code",
   "execution_count": 9,
   "metadata": {},
   "outputs": [],
   "source": [
    "def text(a, b):\n",
    "    \n",
    "    if pd.isnull(b) == True:\n",
    "        \n",
    "        t = a\n",
    "    else:\n",
    "        t = b['full_text']\n",
    "    return t"
   ]
  },
  {
   "cell_type": "code",
   "execution_count": 11,
   "metadata": {},
   "outputs": [],
   "source": [
    "df['tweet_text'] = df.apply(lambda x: tekst(x['text'], x['extended_tweet']), axis=1)"
   ]
  },
  {
   "cell_type": "markdown",
   "metadata": {},
   "source": [
    "## Add sentiment"
   ]
  },
  {
   "cell_type": "code",
   "execution_count": 13,
   "metadata": {},
   "outputs": [],
   "source": [
    "from sentida import Sentida\n",
    "SV = Sentida()"
   ]
  },
  {
   "cell_type": "code",
   "execution_count": 14,
   "metadata": {},
   "outputs": [],
   "source": [
    "def fjern_https(t):\n",
    "    \n",
    "    split = t.split()\n",
    "    \n",
    "    string = []\n",
    "    for sub in split:\n",
    "        sub= re.sub(r'^https:\\/\\/.*[\\r\\n]*', '.', sub)\n",
    "        string.append(sub)\n",
    "    \n",
    "    string = ' '.join(string)\n",
    "        \n",
    "    return string"
   ]
  },
  {
   "cell_type": "code",
   "execution_count": 15,
   "metadata": {},
   "outputs": [],
   "source": [
    "df['tweet_text_ren'] = df['tweet_text'].apply(lambda x: fjern_https(x))"
   ]
  },
  {
   "cell_type": "code",
   "execution_count": 16,
   "metadata": {},
   "outputs": [],
   "source": [
    "df['sentiment']=df['tweet_text_ren'].apply(lambda x: SV.sentida(text = x, output = 'mean', normal = False))"
   ]
  },
  {
   "cell_type": "code",
   "execution_count": 17,
   "metadata": {},
   "outputs": [],
   "source": [
    "def sentiment_kat(s):\n",
    "    if s <-3:\n",
    "        score = 'Meget Negativ'\n",
    "    if -3 <= s <-1.5:\n",
    "        score = 'Negativ'\n",
    "    if -1.5 <= s <-0.5:\n",
    "        score = 'Lidt Negativ'\n",
    "    if -0.5 <= s <= 0.5:\n",
    "        score = 'Neutral'\n",
    "    if 0.5 < s <= 1.5:\n",
    "        score = 'Lidt Positiv'\n",
    "    if 1.5 < s <= 3:\n",
    "        score = 'Positiv'\n",
    "    if s > 3:\n",
    "        score = 'Meget Positiv'\n",
    "    \n",
    "    return score"
   ]
  },
  {
   "cell_type": "code",
   "execution_count": 18,
   "metadata": {},
   "outputs": [],
   "source": [
    "df['sentiment_kategori'] = df['sentiment'].apply(lambda x: sentiment_kat(x))"
   ]
  },
  {
   "cell_type": "code",
   "execution_count": 19,
   "metadata": {},
   "outputs": [
    {
     "data": {
      "text/html": [
       "<div>\n",
       "<style scoped>\n",
       "    .dataframe tbody tr th:only-of-type {\n",
       "        vertical-align: middle;\n",
       "    }\n",
       "\n",
       "    .dataframe tbody tr th {\n",
       "        vertical-align: top;\n",
       "    }\n",
       "\n",
       "    .dataframe thead th {\n",
       "        text-align: right;\n",
       "    }\n",
       "</style>\n",
       "<table border=\"1\" class=\"dataframe\">\n",
       "  <thead>\n",
       "    <tr style=\"text-align: right;\">\n",
       "      <th></th>\n",
       "      <th>created_at</th>\n",
       "      <th>id</th>\n",
       "      <th>id_str</th>\n",
       "      <th>text</th>\n",
       "      <th>source</th>\n",
       "      <th>truncated</th>\n",
       "      <th>in_reply_to_status_id</th>\n",
       "      <th>in_reply_to_status_id_str</th>\n",
       "      <th>in_reply_to_user_id</th>\n",
       "      <th>in_reply_to_user_id_str</th>\n",
       "      <th>...</th>\n",
       "      <th>quoted_status_permalink</th>\n",
       "      <th>retweet</th>\n",
       "      <th>dato</th>\n",
       "      <th>bruger</th>\n",
       "      <th>bruger_beskrivelse</th>\n",
       "      <th>twitter_handle</th>\n",
       "      <th>tweet_text</th>\n",
       "      <th>tweet_text_ren</th>\n",
       "      <th>sentiment</th>\n",
       "      <th>sentiment_kategori</th>\n",
       "    </tr>\n",
       "  </thead>\n",
       "  <tbody>\n",
       "    <tr>\n",
       "      <th>0</th>\n",
       "      <td>Tue Nov 16 23:59:44 +0000 2021</td>\n",
       "      <td>1460759524789342218</td>\n",
       "      <td>1460759524789342218</td>\n",
       "      <td>Opsummering af dækningen af #kv21:\\nBorgmester...</td>\n",
       "      <td>&lt;a href=\"https://mobile.twitter.com\" rel=\"nofo...</td>\n",
       "      <td>False</td>\n",
       "      <td>NaN</td>\n",
       "      <td>None</td>\n",
       "      <td>NaN</td>\n",
       "      <td>None</td>\n",
       "      <td>...</td>\n",
       "      <td>NaN</td>\n",
       "      <td>False</td>\n",
       "      <td>2021-11-16</td>\n",
       "      <td>Frederik Kjøller Larsen</td>\n",
       "      <td>PhD Fellow at @polscicph @uni_copenhagen • ret...</td>\n",
       "      <td>fkjoellerlarsen</td>\n",
       "      <td>Opsummering af dækningen af #kv21:\\nBorgmester...</td>\n",
       "      <td>Opsummering af dækningen af #kv21: Borgmester ...</td>\n",
       "      <td>0.333333</td>\n",
       "      <td>Neutral</td>\n",
       "    </tr>\n",
       "    <tr>\n",
       "      <th>1</th>\n",
       "      <td>Tue Nov 16 23:59:41 +0000 2021</td>\n",
       "      <td>1460759508288954377</td>\n",
       "      <td>1460759508288954377</td>\n",
       "      <td>Eva Kjer Hansen virker arrogant og forsmået so...</td>\n",
       "      <td>&lt;a href=\"https://mobile.twitter.com\" rel=\"nofo...</td>\n",
       "      <td>True</td>\n",
       "      <td>NaN</td>\n",
       "      <td>None</td>\n",
       "      <td>NaN</td>\n",
       "      <td>None</td>\n",
       "      <td>...</td>\n",
       "      <td>NaN</td>\n",
       "      <td>False</td>\n",
       "      <td>2021-11-16</td>\n",
       "      <td>Sandra C. Trebbien</td>\n",
       "      <td>Stud.Cand.soc Development &amp; IR - BA.Scient.adm...</td>\n",
       "      <td>SCTrebbien</td>\n",
       "      <td>Eva Kjer Hansen virker arrogant og forsmået so...</td>\n",
       "      <td>Eva Kjer Hansen virker arrogant og forsmået so...</td>\n",
       "      <td>-0.077778</td>\n",
       "      <td>Neutral</td>\n",
       "    </tr>\n",
       "  </tbody>\n",
       "</table>\n",
       "<p>2 rows × 45 columns</p>\n",
       "</div>"
      ],
      "text/plain": [
       "                       created_at                   id               id_str  \\\n",
       "0  Tue Nov 16 23:59:44 +0000 2021  1460759524789342218  1460759524789342218   \n",
       "1  Tue Nov 16 23:59:41 +0000 2021  1460759508288954377  1460759508288954377   \n",
       "\n",
       "                                                text  \\\n",
       "0  Opsummering af dækningen af #kv21:\\nBorgmester...   \n",
       "1  Eva Kjer Hansen virker arrogant og forsmået so...   \n",
       "\n",
       "                                              source  truncated  \\\n",
       "0  <a href=\"https://mobile.twitter.com\" rel=\"nofo...      False   \n",
       "1  <a href=\"https://mobile.twitter.com\" rel=\"nofo...       True   \n",
       "\n",
       "   in_reply_to_status_id in_reply_to_status_id_str  in_reply_to_user_id  \\\n",
       "0                    NaN                      None                  NaN   \n",
       "1                    NaN                      None                  NaN   \n",
       "\n",
       "  in_reply_to_user_id_str  ... quoted_status_permalink retweet        dato  \\\n",
       "0                    None  ...                     NaN   False  2021-11-16   \n",
       "1                    None  ...                     NaN   False  2021-11-16   \n",
       "\n",
       "                    bruger                                 bruger_beskrivelse  \\\n",
       "0  Frederik Kjøller Larsen  PhD Fellow at @polscicph @uni_copenhagen • ret...   \n",
       "1       Sandra C. Trebbien  Stud.Cand.soc Development & IR - BA.Scient.adm...   \n",
       "\n",
       "    twitter_handle                                         tweet_text  \\\n",
       "0  fkjoellerlarsen  Opsummering af dækningen af #kv21:\\nBorgmester...   \n",
       "1       SCTrebbien  Eva Kjer Hansen virker arrogant og forsmået so...   \n",
       "\n",
       "                                      tweet_text_ren  sentiment  \\\n",
       "0  Opsummering af dækningen af #kv21: Borgmester ...   0.333333   \n",
       "1  Eva Kjer Hansen virker arrogant og forsmået so...  -0.077778   \n",
       "\n",
       "   sentiment_kategori  \n",
       "0             Neutral  \n",
       "1             Neutral  \n",
       "\n",
       "[2 rows x 45 columns]"
      ]
     },
     "execution_count": 19,
     "metadata": {},
     "output_type": "execute_result"
    }
   ],
   "source": [
    "df.head(2)"
   ]
  }
 ],
 "metadata": {
  "kernelspec": {
   "display_name": "Python 3",
   "language": "python",
   "name": "python3"
  },
  "language_info": {
   "codemirror_mode": {
    "name": "ipython",
    "version": 3
   },
   "file_extension": ".py",
   "mimetype": "text/x-python",
   "name": "python",
   "nbconvert_exporter": "python",
   "pygments_lexer": "ipython3",
   "version": "3.8.3"
  }
 },
 "nbformat": 4,
 "nbformat_minor": 4
}
